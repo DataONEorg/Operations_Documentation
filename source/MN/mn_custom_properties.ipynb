{
 "cells": [
  {
   "cell_type": "markdown",
   "metadata": {},
   "source": [
    "# Adjusting Custom Node Properties\n",
    "\n",
    "Member Nodes generally control the content available in the Member Node document provided through the [/node](https://cn.dataone.org/cn/v2/node) service. This document describes custom properties that may be set by the Coordinating Nodes to augment the information provided by the Member Nodes. Such custom properties are not over-written by a Member Node when the Member Node registration information is updated.\n",
    "\n",
    "Custom properties set by the Coordinating Nodes MUST be prefixed by `CN_`. Such properties will be preserved through updates to the node registration. Note that the string \"CN_\" has no meaning other than to act as a mechanism for distinguishing custom properties from other properties that may be set by the MN.\n",
    "\n",
    "The value of the custom property `${PROPERTY}` for the Member Node `${NODE_ID}` can be determined from the DataONE [list nodes API](https://releases.dataone.org/online/api-documentation-v2.0/apis/CN_APIs.html#CNCore.listNodes) with the following XPath statement:\n",
    "\n",
    "```\n",
    "//node[identifier/text()='${NODE_ID}']/property[@key='${PROPERTY}']\n",
    "```\n",
    "\n",
    "For example, using `curl` and `xmlstarlet`:\n",
    "\n",
    "```bash\n",
    "NODE_ID=\"urn:node:KNB\"\n",
    "PROPERTY=\"CN_date_operational\"\n",
    "curl -s \"https://cn.dataone.org/cn/v2/node\" | \\\n",
    "  xml sel -t \\\n",
    "  -m \"//node[identifier/text()='${NODE_ID}']/property[@key='${PROPERTY}']\" -v \".\"\n",
    "2012-07-23T00:00:0.000Z\n",
    "```\n",
    "\n",
    "Note that in order to set any properties, the node must be registered. Furthermore, for the node to appear in the node list, it is necessary for the node to be approved. This is potentially problematic for nodes that are \"upcoming\" (i.e. `CN_operational_status = upcoming`) since such nodes should initially not be synchronizing. As such, it is necessary for an upcoming Member Node to be registered and approved, but with services flagged as being off. In order to prevent a node from accidentally setting node state to allow active harvesting, it is recommended that the initial node registration is created by a different subject to the node operator. This issue will be addressed in a later release of the infrastructure [#8058](https://redmine.dataone.org/issues/8058)."
   ]
  },
  {
   "cell_type": "markdown",
   "metadata": {},
   "source": [
    "## Preferred Custom Properties\n",
    "\n",
    "The following custom properties are used by systems such as the DataONE [search interface](https://search.dataone.org) and [Member Node dashboard](https://www.dataone.org/current-member-nodes).\n",
    "\n",
    "For properties that express a date, these MUST be in UTC and formatted as ISO-8601 (`YYYY-MM-DDTHH:mm:ss.sssZ`). If the time portion is unknown, then substitute `00:00:00.000`. Example:\n",
    "\n",
    "```\n",
    "2017-03-20T15:25:53.514Z\n",
    "```\n",
    "\n",
    "\n"
   ]
  },
  {
   "cell_type": "markdown",
   "metadata": {},
   "source": [
    "### `CN_node_name`\n",
    "\n",
    "Provides the same information as the [`name`](https://releases.dataone.org/online/api-documentation-v2.0/apis/Types.html#Types.Node.name) element of the node document though may optionally be augmented by DataONE to provide additional or clarifying details.\n",
    "\n",
    "Example:\n",
    "\n",
    "```xml\n",
    "<property key=\"CN_node_name\">node name text string</property>\n",
    "```\n",
    "\n",
    "\n"
   ]
  },
  {
   "cell_type": "markdown",
   "metadata": {},
   "source": [
    "### `CN_operational_status`\n",
    "\n",
    "Indicates the current operational status of the Member Node. The value can be one of:\n",
    "\n",
    "`operational`: The Member Node is operational and contributing content\n",
    "\n",
    "`replicator`: The Member Node is operational but acts only as a replication target\n",
    "\n",
    "`upcoming`: The Member Node is anticipated to be operational \"soon\".\n",
    "\n",
    "`developing`: The Member Node is under active development and testing, should not be shown on dashboard or UI\n",
    "\n",
    "`deprecated`: The Member Node has been deprecated and is no longer actively participating in the DataONE environment\n",
    "\n",
    "\n",
    "Example: \n",
    "\n",
    "```xml\n",
    "<property key=\"CN_operational_status\">operational</property>\n",
    "```\n",
    "\n",
    "\n"
   ]
  },
  {
   "cell_type": "markdown",
   "metadata": {},
   "source": [
    "### `CN_date_operational`\n",
    "\n",
    "The date that the Member Node became an operational participant in the DataONE environment. This should be the same time as when `CN_operational_status` is set to `operational` or `replicator`.\n",
    "\n",
    "Example:\n",
    "\n",
    "```xml\n",
    "<property key=\"CN_date_operational\">2017-03-20T15:25:53.514Z</property>\n",
    "```\n",
    "\n",
    "\n"
   ]
  },
  {
   "cell_type": "markdown",
   "metadata": {},
   "source": [
    "### `CN_date_upcoming`\n",
    "\n",
    "The date that the Member Node became designated as `upcoming`, meaning it is expected to soon be participating in an operational capacity. This should be the same time as when `CN_operational_status` is set to `upcoming`.\n",
    "\n",
    "Example:\n",
    "\n",
    "```xml\n",
    "<property key=\"CN_date_upcoming\">2017-03-20T15:25:53.514Z</property>\n",
    "```\n",
    "\n",
    "\n"
   ]
  },
  {
   "cell_type": "markdown",
   "metadata": {},
   "source": [
    "### `CN_date_deprecated`\n",
    "\n",
    "The date that the Member Node became deprecated from further particpation in the DataONE environment. This should be the same time as when `CN_operational_status` is set to `deprecated`.\n",
    "\n",
    "Example:\n",
    "\n",
    "```xml\n",
    "<property key=\"CN_date_deprecated\">2017-03-20T15:25:53.514Z</property>\n",
    "```\n",
    "\n",
    "\n"
   ]
  },
  {
   "cell_type": "markdown",
   "metadata": {},
   "source": [
    "### `CN_logo_url`\n",
    "\n",
    "The URL of the logo that is to be shown for the Member Node in user interfaces. Note that the protocol SHOULD be `https`.\n",
    "\n",
    "Example:\n",
    "\n",
    "```xml\n",
    "<property key=\"CN_logo_url\">https://raw.githubusercontent.com/DataONEorg/member-node-info/master/production/graphics/web/KNB.png</property>\n",
    "```\n",
    "\n",
    "\n"
   ]
  },
  {
   "cell_type": "markdown",
   "metadata": {},
   "source": [
    "### `CN_info_url`\n",
    "\n",
    "A URL that provides additional information about the Member Node and its host. This may for example, point to a landing page describing the data repository being represented by the Member Node.\n",
    "\n",
    "Example:\n",
    "\n",
    "```xml\n",
    "<property key=\"CN_info_url\">https://knb.ecoinformatics.org/</property>\n",
    "```\n",
    "\n",
    "\n"
   ]
  },
  {
   "cell_type": "markdown",
   "metadata": {},
   "source": [
    "## Getting and Setting Custom Properties\n",
    "\n",
    "Custom Member Node properties are typically set directly in the Coordinating Node LDAP service where node information is stored.\n",
    "\n",
    "A python script, [d1nodeprops](https://github.com/DataONEorg/DataONE_Operations/blob/master/scripts/d1nodeprops) is available to get and set custom node properties. It is necessary for the CN administrator to create an `ssh` tunnel to a Coordinating Node forwarding the LDAP connection for the script to work. For example, to set the `CN_logo_url` for the node `urn:node:KNB`:\n",
    "\n",
    "```bash\n",
    "ssh -L 3890:localhost:389 cn-ucsb-1.dataone.org\n",
    "\n",
    "#in another terminal\n",
    "d1nodeprops -I \"urn:node:KNB\" -k \"CN_logo_url\" -p \"SOME PASSWORD\" -o update \\\n",
    "  \"https://raw.githubusercontent.com/DataONEorg/member-node-info/master/production/graphics/web/KNB.png\"\n",
    "```\n",
    "\n",
    "To list the custom properties that have been set for a Member Node:\n",
    "\n",
    "```bash\n",
    "d1nodeprops -I \"urn:node:KNB\" -p \"SOME PASSWORD\"\n",
    "```"
   ]
  },
  {
   "cell_type": "code",
   "execution_count": null,
   "metadata": {},
   "outputs": [],
   "source": []
  }
 ],
 "metadata": {
  "kernelspec": {
   "display_name": "Python 3",
   "language": "python",
   "name": "python3"
  },
  "language_info": {
   "codemirror_mode": {
    "name": "ipython",
    "version": 3
   },
   "file_extension": ".py",
   "mimetype": "text/x-python",
   "name": "python",
   "nbconvert_exporter": "python",
   "pygments_lexer": "ipython3",
   "version": "3.7.1"
  }
 },
 "nbformat": 4,
 "nbformat_minor": 2
}
