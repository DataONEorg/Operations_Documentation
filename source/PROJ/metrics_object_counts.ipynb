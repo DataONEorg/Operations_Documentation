{
 "cells": [
  {
   "cell_type": "markdown",
   "metadata": {},
   "source": [
    "# Object Counts Over Time\n",
    "\n",
    "Show the number of objects accessible through DataONE over time.\n",
    "\n",
    "This process uses the solr index to identify the number of different types of objects available"
   ]
  },
  {
   "cell_type": "code",
   "execution_count": 1,
   "metadata": {},
   "outputs": [],
   "source": [
    "import requests\n",
    "import json\n",
    "import pprint\n",
    "from datetime import datetime\n",
    "import dateutil\n",
    "\n",
    "SOLR_TIME_FORMAT = \"%Y-%m-%dT%H:%M:%SZ\"\n",
    "\n",
    "T_NOW = datetime.utcnow()\n",
    "T_START = datetime(2012,7,1)"
   ]
  },
  {
   "cell_type": "code",
   "execution_count": 2,
   "metadata": {},
   "outputs": [
    {
     "name": "stdout",
     "output_type": "stream",
     "text": [
      "3.7.0 (default, Jun 28 2018, 07:39:16) \n",
      "[Clang 4.0.1 (tags/RELEASE_401/final)]\n"
     ]
    }
   ],
   "source": [
    "import sys\n",
    "print(sys.version)"
   ]
  },
  {
   "cell_type": "code",
   "execution_count": 3,
   "metadata": {},
   "outputs": [],
   "source": [
    "def getObjectCounts(t_start=None, t_end=None):\n",
    "    results = {\n",
    "        \"metadata\": 0,\n",
    "        \"data\": 0,\n",
    "        \"resource\": 0,\n",
    "    }\n",
    "    url = \"https://cn.dataone.org/cn/v2/query/solr/\"\n",
    "    params = {\n",
    "        \"q\":\"-obsoletedBy:[* TO *]\",\n",
    "        \"rows\":\"0\",\n",
    "        \"wt\":\"json\",\n",
    "        \"indent\":\"on\",\n",
    "        \"facet\":\"on\",\n",
    "        \"facet.field\": \"formatType\",\n",
    "        \"facet.mincount\": 1,\n",
    "             }\n",
    "    dq = None\n",
    "    if t_start is not None:\n",
    "        st = f\"{t_start:{SOLR_TIME_FORMAT}}\"\n",
    "        if t_end is None:\n",
    "            dq = f\"dateUploaded:[\\\"{st}\\\" TO \\\"{T_NOW}\\\"]\"\n",
    "        else:\n",
    "            dq = f\"dateUploaded:[\\\"{st}\\\" TO \\\"{t_end:{SOLR_TIME_FORMAT}}\\\"]\"\n",
    "    elif t_end is not None:\n",
    "        et = f\"{t_end:{SOLR_TIME_FORMAT}}\"\n",
    "        dq = f\"dateUploaded:[* TO \\\"{et}\\\"]\"\n",
    "    if dq is not None:\n",
    "        params[\"q\"] = params[\"q\"] + \" AND \" + dq\n",
    "    response = requests.get(url, params=params)\n",
    "    data = json.loads(response.text)\n",
    "    ftcounts = data[\"facet_counts\"][\"facet_fields\"][\"formatType\"]\n",
    "    for i in range(0, len(ftcounts),2):\n",
    "        ft = ftcounts[i].lower()\n",
    "        results[ft] = ftcounts[i+1]\n",
    "    return results\n",
    "\n"
   ]
  },
  {
   "cell_type": "code",
   "execution_count": 4,
   "metadata": {},
   "outputs": [
    {
     "data": {
      "text/plain": [
       "{'metadata': 804196, 'data': 1172369, 'resource': 198233}"
      ]
     },
     "execution_count": 4,
     "metadata": {},
     "output_type": "execute_result"
    }
   ],
   "source": [
    "getObjectCounts()"
   ]
  },
  {
   "cell_type": "code",
   "execution_count": 5,
   "metadata": {},
   "outputs": [
    {
     "name": "stdout",
     "output_type": "stream",
     "text": [
      "date,metadata,data,resource\n",
      "2012-07-01,53935,37983,33271\n",
      "2012-08-01,56013,38337,33636\n",
      "2012-09-01,57153,38734,33935\n",
      "2012-10-01,58170,39212,34219\n",
      "2012-11-01,59935,39850,34667\n",
      "2012-12-01,61498,40576,35250\n",
      "2013-01-01,63165,40849,36256\n",
      "2013-02-01,64988,41559,37858\n",
      "2013-03-01,67136,42468,38513\n",
      "2013-04-01,78131,43175,48342\n",
      "2013-05-01,79531,43720,48726\n",
      "2013-06-01,81426,44486,49083\n",
      "2013-07-01,82835,45198,49456\n",
      "2013-08-01,84211,45827,49855\n",
      "2013-09-01,85626,46494,50189\n",
      "2013-10-01,101524,91431,65308\n",
      "2013-11-01,102953,93025,65718\n",
      "2013-12-01,104262,106207,65993\n",
      "2014-01-01,105829,107285,66378\n",
      "2014-02-01,107460,108266,66858\n",
      "2014-03-01,109182,109013,67379\n",
      "2014-04-01,110895,110098,68106\n",
      "2014-05-01,112443,110996,68415\n",
      "2014-06-01,113896,111644,68789\n",
      "2014-07-01,115695,112643,69204\n",
      "2014-08-01,117569,113481,69751\n",
      "2014-09-01,119238,114091,70542\n",
      "2014-10-01,121160,147466,71030\n",
      "2014-11-01,139784,225202,88338\n",
      "2014-12-01,141679,502607,88847\n",
      "2015-01-01,144159,508124,89710\n",
      "2015-02-01,146250,558404,90352\n",
      "2015-03-01,170810,620899,110496\n",
      "2015-04-01,174242,649892,111793\n",
      "2015-05-01,177645,660905,113413\n",
      "2015-06-01,185625,720123,119226\n",
      "2015-07-01,192192,790147,123704\n",
      "2015-08-01,200084,836458,128511\n",
      "2015-09-01,208453,849627,134790\n",
      "2015-10-01,213515,855994,138041\n",
      "2015-11-01,216298,857573,138842\n",
      "2015-12-01,220646,864802,141069\n",
      "2016-01-01,223302,868777,141986\n",
      "2016-02-01,226123,870414,142989\n",
      "2016-03-01,231065,873424,144912\n",
      "2016-04-01,260480,878181,147397\n",
      "2016-05-01,267149,880579,151778\n",
      "2016-06-01,272268,882501,153953\n",
      "2016-07-01,277060,885499,156556\n",
      "2016-08-01,282571,887481,158336\n",
      "2016-09-01,290742,891994,162117\n",
      "2016-10-01,294872,893848,163689\n",
      "2016-11-01,307446,900447,165220\n",
      "2016-12-01,312058,915351,167228\n",
      "2017-01-01,318793,927216,169008\n",
      "2017-02-01,322898,937484,170277\n",
      "2017-03-01,326970,947631,171784\n",
      "2017-04-01,334848,953745,173059\n",
      "2017-05-01,342194,956625,173989\n",
      "2017-06-01,349928,960240,175346\n",
      "2017-07-01,354602,971766,176519\n",
      "2017-08-01,359828,1057937,177739\n",
      "2017-09-01,581688,1088075,180015\n",
      "2017-10-01,592941,1094996,181647\n",
      "2017-11-01,605424,1109878,182794\n",
      "2017-12-01,613787,1112706,183967\n",
      "2018-01-01,642924,1114663,184872\n",
      "2018-02-01,674201,1120909,187740\n",
      "2018-03-01,698868,1125055,189670\n",
      "2018-04-01,707816,1127915,191504\n",
      "2018-05-01,791613,1141153,192761\n",
      "2018-06-01,794866,1150686,194455\n",
      "2018-07-01,796735,1155786,195219\n",
      "2018-08-01,799284,1161092,196260\n",
      "2018-09-01,802460,1163023,197085\n",
      "2018-10-01,803570,1170337,197600\n",
      "2018-11-01,803734,1171411,197761\n",
      "2018-12-01,804158,1172252,198195\n"
     ]
    }
   ],
   "source": [
    "\n",
    "c_date = T_START\n",
    "object_count = []\n",
    "columns = [\"date\", \"metadata\", \"data\", \"resource\"]\n",
    "print(\",\".join(columns))\n",
    "while c_date < T_NOW:\n",
    "    counts = getObjectCounts(t_end = c_date)\n",
    "    entry = (c_date, counts[\"metadata\"], counts[\"data\"], counts[\"resource\"])\n",
    "    print(f\"{entry[0]:%Y-%m-%d},{entry[1]},{entry[2]},{entry[3]}\")\n",
    "    object_count.append(entry)\n",
    "    c_date = c_date + dateutil.relativedelta.relativedelta(months=+1)\n"
   ]
  },
  {
   "cell_type": "code",
   "execution_count": 7,
   "metadata": {},
   "outputs": [
    {
     "data": {
      "image/png": "[encoded data removed]",
      "text/plain": [
       "<Figure size 720x288 with 1 Axes>"
      ]
     },
     "metadata": {
      "needs_background": "light"
     },
     "output_type": "display_data"
    }
   ],
   "source": [
    "import pandas as pd\n",
    "import matplotlib.pyplot as plt\n",
    "data_frame = pd.DataFrame(object_count, columns=columns)\n",
    "data_frame.set_index('date', inplace=True)\n",
    "\n",
    "plot = data_frame.plot(figsize=(10,4))\n",
    "plot.set_xlabel(\"Date\")\n",
    "plot.grid(True)"
   ]
  },
  {
   "cell_type": "code",
   "execution_count": null,
   "metadata": {},
   "outputs": [],
   "source": []
  }
 ],
 "metadata": {
  "kernelspec": {
   "display_name": "Python 3",
   "language": "python",
   "name": "python3"
  },
  "language_info": {
   "codemirror_mode": {
    "name": "ipython",
    "version": 3
   },
   "file_extension": ".py",
   "mimetype": "text/x-python",
   "name": "python",
   "nbconvert_exporter": "python",
   "pygments_lexer": "ipython3",
   "version": "3.7.0"
  }
 },
 "nbformat": 4,
 "nbformat_minor": 2
}
