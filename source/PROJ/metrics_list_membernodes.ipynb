{
 "cells": [
  {
   "cell_type": "markdown",
   "metadata": {},
   "source": [
    "# Listing Member Nodes\n",
    "\n",
    "The authoritative list of Member Nodes is provided by the `/node` endpoint of the Coordinating Nodes. This notebook shows how to retrieve that information using the command lines tools `curl` and `xml starlet`.\n",
    "\n",
    "The response from the `/node` endpoint is an XML document with multiple `node` elements, each containing details of a node. For example:\n",
    "\n",
    "```xml\n",
    " <node replicate=\"false\" synchronize=\"false\" type=\"mn\" state=\"up\">\n",
    "        <identifier>urn:node:PANGAEA</identifier>\n",
    "        <name>PANGAEA</name>\n",
    "        <description>Data publisher for Earth &amp; Environmental Science</description>\n",
    "        <baseURL>https://pangaea-orc-1.dataone.org/mn</baseURL>\n",
    "        <services>\n",
    "            <service name=\"MNCore\" version=\"v1\" available=\"true\"/>\n",
    "            <service name=\"MNRead\" version=\"v1\" available=\"true\"/>\n",
    "            <service name=\"MNAuthorization\" version=\"v1\" available=\"true\"/>\n",
    "            <service name=\"MNStorage\" version=\"v1\" available=\"true\"/>\n",
    "            <service name=\"MNReplication\" version=\"v1\" available=\"true\"/>\n",
    "            <service name=\"MNCore\" version=\"v2\" available=\"true\"/>\n",
    "            <service name=\"MNRead\" version=\"v2\" available=\"true\"/>\n",
    "            <service name=\"MNAuthorization\" version=\"v2\" available=\"true\"/>\n",
    "            <service name=\"MNStorage\" version=\"v2\" available=\"true\"/>\n",
    "            <service name=\"MNReplication\" version=\"v2\" available=\"true\"/>\n",
    "        </services>\n",
    "        <synchronization>\n",
    "            <schedule hour=\"*\" mday=\"*\" min=\"11\" mon=\"*\" sec=\"0\" wday=\"?\" year=\"*\"/>\n",
    "            <lastHarvested>2018-05-03T03:01:02.868+00:00</lastHarvested>\n",
    "            <lastCompleteHarvest>1900-01-01T00:00:00.000+00:00</lastCompleteHarvest>\n",
    "        </synchronization>\n",
    "        <subject>CN=urn:node:PANGAEA,DC=dataone,DC=org</subject>\n",
    "        <contactSubject>CN=M I A213106,O=Google,C=US,DC=cilogon,DC=org</contactSubject>\n",
    "        <property key=\"CN_node_name\">PANGAEA Data Publisher for Earth and Environmental Science</property>\n",
    "        <property key=\"CN_operational_status\">operational</property>\n",
    "        <property key=\"CN_logo_url\">https://raw.githubusercontent.com/DataONEorg/member-node-info/master/production/graphics/web/PANGAEA.png</property>\n",
    "        <property key=\"CN_date_upcoming\">2017-11-14T22:00:00</property>\n",
    "        <property key=\"CN_info_url\">https://www.pangaea.de/</property>\n",
    "        <property key=\"CN_location_lonlat\">8.8506,53.1101</property>\n",
    "        <property key=\"CN_date_operational\">2018-03-20T17:46:00.000Z</property>\n",
    "    </node>\n",
    "```\n",
    "\n",
    "This information can be processed using an XML parser such as python's `ElementTree` to retrieve specific values of interest.\n"
   ]
  },
  {
   "cell_type": "code",
   "execution_count": 38,
   "metadata": {},
   "outputs": [
    {
     "name": "stdout",
     "output_type": "stream",
     "text": [
      "urn:node:CNUNM1      cn  up   operational    cn-unm-1                                \n",
      "urn:node:CNUCSB1     cn  up   operational    cn-ucsb-1                               \n",
      "urn:node:CNORC1      cn  up   operational    cn-orc-1                                \n",
      "urn:node:KNB         mn  up   operational    KNB Data Repository                     \n",
      "urn:node:ESA         mn  up   operational    ESA Data Registry                       \n",
      "urn:node:SANPARKS    mn  up   operational    SANParks Data Repository                \n",
      "urn:node:ORNLDAAC    mn  down operational    ORNL DAAC                               \n",
      "urn:node:LTER        mn  up   operational    U.S. LTER Network                       \n",
      "urn:node:CDL         mn  up   operational    UC3 Merritt                             \n",
      "urn:node:PISCO       mn  up   operational    PISCO MN                                \n",
      "urn:node:ONEShare    mn  up   operational    ONEShare DataONE Member Node            \n",
      "urn:node:mnORC1      mn  up   replicator     DataONE ORC Dedicated Replica Server    \n",
      "urn:node:mnUNM1      mn  up   replicator     DataONE UNM Dedicated Replica Server    \n",
      "urn:node:mnUCSB1     mn  up   replicator     DataONE UCSB Dedicated Replica Server   \n",
      "urn:node:TFRI        mn  up   operational    TFRI Data Catalog                       \n",
      "urn:node:USANPN      mn  down contributing   USA National Phenology Network          \n",
      "urn:node:SEAD        mn  up   operational    SEAD Virtual Archive                    \n",
      "urn:node:GOA         mn  up   operational    Gulf of Alaska Data Portal              \n",
      "urn:node:KUBI        mn  down operational    University of Kansas - Biodiversity Institute\n",
      "urn:node:LTER_EUROPE mn  up   operational    LTER Europe Member Node                 \n",
      "urn:node:DRYAD       mn  up   operational    Dryad Digital Repository                \n",
      "urn:node:CLOEBIRD    mn  up   operational    Cornell Lab of Ornithology - eBird      \n",
      "urn:node:EDACGSTORE  mn  up   operational    EDAC Gstore Repository                  \n",
      "urn:node:IOE         mn  up   operational    Montana IoE Data Repository             \n",
      "urn:node:US_MPC      mn  up   operational    Minnesota Population Center             \n",
      "urn:node:EDORA       mn  down operational    Environmental Data for the Oak Ridge Area (EDORA)\n",
      "urn:node:RGD         mn  down operational    Regional and Global biogeochemical dynamics Data (RGD)\n",
      "urn:node:GLEON       mn  down contributing   GLEON Data Repository                   \n",
      "urn:node:IARC        mn  up   operational    IARC Data Archive                       \n",
      "urn:node:NMEPSCOR    mn  up   operational    NM EPSCoR Tier 4 Node                   \n",
      "urn:node:TERN        mn  up   operational    TERN Australia                          \n",
      "urn:node:NKN         mn  up   operational    Northwest Knowledge Network             \n",
      "urn:node:USGS_SDC    mn  up   operational    USGS Science Data Catalog               \n",
      "urn:node:NRDC        mn  up   operational    NRDC DataONE member node                \n",
      "urn:node:NCEI        mn  up   operational    NOAA NCEI Oceanographic Data Archive    \n",
      "urn:node:PPBIO       mn  up   operational    PPBio                                   \n",
      "urn:node:NEON        mn  up   operational    NEON Member Node                        \n",
      "urn:node:TDAR        mn  up   operational    The Digital Archaeological Record       \n",
      "urn:node:ARCTIC      mn  up   operational    Arctic Data Center                      \n",
      "urn:node:BCODMO      mn  up   operational    Biological and Chemical Oceanography Data Management Office (BCO-DMO) \n",
      "urn:node:GRIIDC      mn  up   operational    Gulf of Mexico Research Initiative Information and Data Cooperative (GRIIDC)\n",
      "urn:node:R2R         mn  up   operational    Rolling Deck to Repository (R2R)        \n",
      "urn:node:EDI         mn  up   operational    Environmental Data Initiative           \n",
      "urn:node:UIC         mn  up   operational    A Member Node for University of Illinois at Chicago.\n",
      "urn:node:RW          mn  up   operational    Research Workspace                      \n",
      "urn:node:FEMC        mn  up   operational    Forest Ecosystem Monitoring Cooperative Member Node\n",
      "urn:node:OTS_NDC     mn  up   operational    Organization for Tropical Studies - Neotropical Data Center\n",
      "urn:node:PANGAEA     mn  up   operational    PANGAEA                                 \n",
      "urn:node:ESS_DIVE    mn  up   operational    ESS-DIVE: Deep Insight for Earth Science Data\n",
      "urn:node:CAS_CERN    mn  up   operational    Chinese Ecosystem Research Network (CERN)\n"
     ]
    }
   ],
   "source": [
    "import requests\n",
    "import xml.etree.ElementTree as ET\n",
    "from pprint import pprint \n",
    "\n",
    "#The /node document endpoint\n",
    "url = \"https://cn.dataone.org/cn/v2/node\"\n",
    "\n",
    "node_document = requests.get(url).text\n",
    "node_tree = ET.fromstring(node_document)\n",
    "nodes = []\n",
    "\n",
    "#Extract the node entry items of interest\n",
    "for node in node_tree.iter(\"node\"):\n",
    "    node_id = node.find(\"identifier\").text\n",
    "    node_coords = node.find(\"property[@key='CN_location_lonlat']\")\n",
    "    if not node_coords is None:\n",
    "        entry = {\"node_id\":node_id,\n",
    "                 \"name\":node.find(\"name\").text,\n",
    "                 \"type\":node.get(\"type\"),\n",
    "                 \"state\":node.get(\"state\"),\n",
    "                 \"status\":node.find(\"property[@key='CN_operational_status']\").text\n",
    "                }\n",
    "        node_coords = node_coords.text.split(\",\")\n",
    "        node_coords = list(map(float, node_coords))\n",
    "        # reverse coords since leaflet wants latitude first\n",
    "        entry[\"location\"] = (node_coords[1], node_coords[0])\n",
    "        nodes.append( entry )\n",
    "\n",
    "# Display the node list\n",
    "for n in nodes:\n",
    "    print(f\"{n['node_id']:20} {n['type']:3} {n['state']:4} {n['status']:14} {n['name']:40}\")\n"
   ]
  },
  {
   "cell_type": "markdown",
   "metadata": {},
   "source": [
    "Now display the nodes on a map using the `ipyleaflet` extension.\n",
    "\n",
    "First group nodes that are close so they can be drawn with a marker cluster."
   ]
  },
  {
   "cell_type": "code",
   "execution_count": 39,
   "metadata": {},
   "outputs": [
    {
     "name": "stdout",
     "output_type": "stream",
     "text": [
      "Grouped 50 nodes to 24 groups\n"
     ]
    }
   ],
   "source": [
    "def computeGroupCentroid(nodes):\n",
    "    sx = 0\n",
    "    sy = 0\n",
    "    for n in nodes:\n",
    "        sx += n[\"location\"][1]\n",
    "        sy += n[\"location\"][0]\n",
    "    return (sy/len(nodes), sx/len(nodes))\n",
    "\n",
    "def computeDistance(a, b):\n",
    "    dx = (a[1]-b[1]) ** 2\n",
    "    dy = (a[0]-b[0]) ** 2\n",
    "    return (dx+dy) ** 0.5\n",
    "\n",
    "#Initialize the groups with the first node.\n",
    "#Each entry in the node_groups is a list of nodes that are close to the centroid of those nodes.\n",
    "node_groups = [\n",
    "                [nodes[0],], \n",
    "              ]\n",
    "for node in nodes[1:]:\n",
    "    added = False\n",
    "    for gnodes in node_groups:\n",
    "        gc = computeGroupCentroid(gnodes)\n",
    "        dist = computeDistance(node[\"location\"], gc)\n",
    "        if dist < 5.0:\n",
    "            gnodes.append(node)\n",
    "            added = True\n",
    "    if not added:\n",
    "        node_groups.append([node, ])\n",
    "print(f\"Grouped {len(nodes)} nodes to {len(node_groups)} groups\")\n"
   ]
  },
  {
   "cell_type": "markdown",
   "metadata": {},
   "source": [
    "Now render the nodes using `ipyleaflet`."
   ]
  },
  {
   "cell_type": "code",
   "execution_count": 40,
   "metadata": {},
   "outputs": [
    {
     "data": {
      "application/vnd.jupyter.widget-view+json": {
       "model_id": "e98840421ecd49fda76372d97bf705dd",
       "version_major": 2,
       "version_minor": 0
      },
      "text/plain": [
       "Map(basemap={'url': 'https://{s}.tile.openstreetmap.org/{z}/{x}/{y}.png', 'max_zoom': 19, 'attribution': 'Map …"
      ]
     },
     "metadata": {},
     "output_type": "display_data"
    }
   ],
   "source": [
    "from ipyleaflet import Map, Marker, CircleMarker, MarkerCluster\n",
    "\n",
    "m = Map(center=(30, -40), zoom=2)\n",
    "for ng in node_groups:\n",
    "    if len(ng) == 1:\n",
    "        node = ng[0]\n",
    "        marker = None\n",
    "        if node[\"type\"] == \"mn\":\n",
    "            marker = Marker(location=node[\"location\"], draggable=False, title=node[\"name\"])\n",
    "        else:\n",
    "            marker = CircleMarker(location=node[\"location\"])\n",
    "        m.add_layer(marker)\n",
    "    else:\n",
    "        markers = []\n",
    "        for node in ng:\n",
    "            marker = None\n",
    "            if node[\"type\"] == \"mn\":\n",
    "                marker = Marker(location=node[\"location\"], draggable=False, title=node[\"name\"])\n",
    "            else:\n",
    "                marker = CircleMarker(location=node[\"location\"])\n",
    "            markers.append(marker)\n",
    "        marker_cluster = MarkerCluster(markers=markers)\n",
    "        m.add_layer(marker_cluster)\n",
    "m"
   ]
  },
  {
   "cell_type": "code",
   "execution_count": null,
   "metadata": {},
   "outputs": [],
   "source": []
  }
 ],
 "metadata": {
  "kernelspec": {
   "display_name": "Python 3",
   "language": "python",
   "name": "python3"
  },
  "language_info": {
   "codemirror_mode": {
    "name": "ipython",
    "version": 3
   },
   "file_extension": ".py",
   "mimetype": "text/x-python",
   "name": "python",
   "nbconvert_exporter": "python",
   "pygments_lexer": "ipython3",
   "version": "3.7.1"
  }
 },
 "nbformat": 4,
 "nbformat_minor": 2
}
