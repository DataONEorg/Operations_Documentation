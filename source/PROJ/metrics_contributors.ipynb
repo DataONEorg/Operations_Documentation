{
 "cells": [
  {
   "cell_type": "markdown",
   "metadata": {},
   "source": [
    "# DataONE Contributors\n",
    "\n",
    "Examine the solr index to determine the number of contributors to content exposed by DataONE. The count provided here is likely higher than the actual number of contributors because the indexing process only performs minimal pre-processing of names added to the index. For example, in some cases names appear with both ASCII and Unicode variants and are treated as separate."
   ]
  },
  {
   "cell_type": "code",
   "execution_count": 1,
   "metadata": {},
   "outputs": [],
   "source": [
    "import requests\n",
    "import json\n",
    "import pprint\n",
    "from datetime import datetime\n",
    "import dateutil\n",
    "\n",
    "SOLR_TIME_FORMAT = \"%Y-%m-%dT%H:%M:%SZ\"\n",
    "\n",
    "T_NOW = datetime.utcnow()\n",
    "T_START = datetime(2012,7,1)\n"
   ]
  },
  {
   "cell_type": "code",
   "execution_count": 2,
   "metadata": {},
   "outputs": [],
   "source": [
    "def getContributors(t_start=None, t_end=None):\n",
    "    url = \"https://cn.dataone.org/cn/v2/query/solr/\"\n",
    "    params = {\n",
    "        \"q\":\"*:*\",\n",
    "        \"facet\":\"on\",\n",
    "        \"rows\":\"0\",\n",
    "        \"facet.limit\":\"-1\",\n",
    "        \"facet.field\":\"investigator\",\n",
    "        \"wt\":\"json\",\n",
    "             }\n",
    "    dq = None\n",
    "    if t_start is not None:\n",
    "        st = f\"{t_start:{SOLR_TIME_FORMAT}}\"\n",
    "        if t_end is None:\n",
    "            dq = f\"dateUploaded:[\\\"{st}\\\" TO \\\"{T_NOW}\\\"]\"\n",
    "        else:\n",
    "            dq = f\"dateUploaded:[\\\"{st}\\\" TO \\\"{t_end:{SOLR_TIME_FORMAT}}\\\"]\"\n",
    "    else:\n",
    "        et = f\"{t_end:{SOLR_TIME_FORMAT}}\"\n",
    "        dq = f\"dateUploaded:[* TO \\\"{et}\\\"]\"\n",
    "    if dq is not None:\n",
    "        params[\"q\"] = dq\n",
    "    response = requests.get(url, params=params)\n",
    "    data = json.loads(response.text)\n",
    "    investigators = data[\"facet_counts\"][\"facet_fields\"][\"investigator\"]\n",
    "    names = []\n",
    "    counts = []\n",
    "    for i in range(0, len(investigators), 2):\n",
    "        n = investigators[i+1]\n",
    "        if n > 0:\n",
    "            names.append(investigators[i])\n",
    "            counts.append(investigators[i+1])\n",
    "    return names, counts\n",
    "\n"
   ]
  },
  {
   "cell_type": "code",
   "execution_count": 6,
   "metadata": {},
   "outputs": [
    {
     "name": "stdout",
     "output_type": "stream",
     "text": [
      "date,contributors\n",
      "2012-07-01,10741\n",
      "2012-08-01,11900\n",
      "2012-09-01,12372\n",
      "2012-10-01,12784\n",
      "2012-11-01,13562\n",
      "2012-12-01,14145\n",
      "2013-01-01,14594\n",
      "2013-02-01,15405\n",
      "2013-03-01,16250\n",
      "2013-04-01,16926\n",
      "2013-05-01,17479\n",
      "2013-06-01,18434\n",
      "2013-07-01,19077\n",
      "2013-08-01,19717\n",
      "2013-09-01,20488\n",
      "2013-10-01,21481\n",
      "2013-11-01,22236\n",
      "2013-12-01,22899\n",
      "2014-01-01,23468\n",
      "2014-02-01,24402\n",
      "2014-03-01,25338\n",
      "2014-04-01,26142\n",
      "2014-05-01,27010\n",
      "2014-06-01,27738\n",
      "2014-07-01,28675\n",
      "2014-08-01,29670\n",
      "2014-09-01,30339\n",
      "2014-10-01,31801\n",
      "2014-11-01,32896\n",
      "2014-12-01,34765\n",
      "2015-01-01,36120\n",
      "2015-02-01,37216\n",
      "2015-03-01,38473\n",
      "2015-04-01,40018\n",
      "2015-05-01,41530\n",
      "2015-06-01,42940\n",
      "2015-07-01,44434\n",
      "2015-08-01,45835\n",
      "2015-09-01,47079\n",
      "2015-10-01,48547\n",
      "2015-11-01,49998\n",
      "2015-12-01,51250\n",
      "2016-01-01,52730\n",
      "2016-02-01,54083\n",
      "2016-03-01,55565\n",
      "2016-04-01,58823\n",
      "2016-05-01,60980\n",
      "2016-06-01,62622\n",
      "2016-07-01,63926\n",
      "2016-08-01,65132\n",
      "2016-09-01,66912\n",
      "2016-10-01,68409\n",
      "2016-11-01,71985\n",
      "2016-12-01,73708\n",
      "2017-01-01,78495\n",
      "2017-02-01,80239\n",
      "2017-03-01,81732\n",
      "2017-04-01,83531\n",
      "2017-05-01,85831\n",
      "2017-06-01,87768\n",
      "2017-07-01,89567\n",
      "2017-08-01,91315\n",
      "2017-09-01,117874\n",
      "2017-10-01,121462\n",
      "2017-11-01,125302\n",
      "2017-12-01,128160\n",
      "2018-01-01,133103\n",
      "2018-02-01,136162\n",
      "2018-03-01,138344\n",
      "2018-04-01,140542\n",
      "2018-05-01,142453\n",
      "2018-06-01,144095\n",
      "2018-07-01,145664\n",
      "2018-08-01,147594\n",
      "2018-09-01,149380\n",
      "2018-10-01,150243\n",
      "2018-11-01,150317\n",
      "2018-12-01,150348\n"
     ]
    }
   ],
   "source": [
    "c_date = T_START\n",
    "name_count = []\n",
    "columns = [\"date\",\"contributors\"]\n",
    "print(\",\".join(columns))\n",
    "while c_date < T_NOW:\n",
    "    names, counts = getContributors(t_end = c_date)\n",
    "    entry = (c_date, len(names))\n",
    "    print(f\"{entry[0]:%Y-%m-%d},{entry[1]}\")\n",
    "    name_count.append(entry)\n",
    "    c_date = c_date + dateutil.relativedelta.relativedelta(months=+1)\n"
   ]
  },
  {
   "cell_type": "code",
   "execution_count": 7,
   "metadata": {},
   "outputs": [
    {
     "data": {
      "image/png": "[encoded data removed]",
      "text/plain": [
       "<Figure size 720x288 with 1 Axes>"
      ]
     },
     "metadata": {
      "needs_background": "light"
     },
     "output_type": "display_data"
    }
   ],
   "source": [
    "import pandas as pd\n",
    "import matplotlib.pyplot as plt\n",
    "data_frame = pd.DataFrame(name_count, columns=columns)\n",
    "data_frame.set_index('date', inplace=True)\n",
    "\n",
    "plot = data_frame.plot(figsize=(10,4))\n",
    "plot.set_xlabel(\"Date\")\n",
    "plot.grid(True)"
   ]
  },
  {
   "cell_type": "code",
   "execution_count": null,
   "metadata": {},
   "outputs": [],
   "source": []
  }
 ],
 "metadata": {
  "kernelspec": {
   "display_name": "Python 3",
   "language": "python",
   "name": "python3"
  },
  "language_info": {
   "codemirror_mode": {
    "name": "ipython",
    "version": 3
   },
   "file_extension": ".py",
   "mimetype": "text/x-python",
   "name": "python",
   "nbconvert_exporter": "python",
   "pygments_lexer": "ipython3",
   "version": "3.7.0"
  }
 },
 "nbformat": 4,
 "nbformat_minor": 2
}
