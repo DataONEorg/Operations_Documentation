{
 "cells": [
  {
   "cell_type": "markdown",
   "metadata": {},
   "source": [
    "# Listing Member Nodes\n",
    "\n",
    "The authoritative list of Member Nodes is provided by the `/node` endpoint of the Coordinating Nodes. This notebook shows how to retrieve that information using the command lines tools `curl` and `xml starlet`.\n",
    "\n",
    "The response from the `/node` endpoint is an XML document with multiple `node` elements, each containing details of a node. For example:\n",
    "\n",
    "```xml\n",
    " <node replicate=\"false\" synchronize=\"false\" type=\"mn\" state=\"up\">\n",
    "        <identifier>urn:node:PANGAEA</identifier>\n",
    "        <name>PANGAEA</name>\n",
    "        <description>Data publisher for Earth &amp; Environmental Science</description>\n",
    "        <baseURL>https://pangaea-orc-1.dataone.org/mn</baseURL>\n",
    "        <services>\n",
    "            <service name=\"MNCore\" version=\"v1\" available=\"true\"/>\n",
    "            <service name=\"MNRead\" version=\"v1\" available=\"true\"/>\n",
    "            <service name=\"MNAuthorization\" version=\"v1\" available=\"true\"/>\n",
    "            <service name=\"MNStorage\" version=\"v1\" available=\"true\"/>\n",
    "            <service name=\"MNReplication\" version=\"v1\" available=\"true\"/>\n",
    "            <service name=\"MNCore\" version=\"v2\" available=\"true\"/>\n",
    "            <service name=\"MNRead\" version=\"v2\" available=\"true\"/>\n",
    "            <service name=\"MNAuthorization\" version=\"v2\" available=\"true\"/>\n",
    "            <service name=\"MNStorage\" version=\"v2\" available=\"true\"/>\n",
    "            <service name=\"MNReplication\" version=\"v2\" available=\"true\"/>\n",
    "        </services>\n",
    "        <synchronization>\n",
    "            <schedule hour=\"*\" mday=\"*\" min=\"11\" mon=\"*\" sec=\"0\" wday=\"?\" year=\"*\"/>\n",
    "            <lastHarvested>2018-05-03T03:01:02.868+00:00</lastHarvested>\n",
    "            <lastCompleteHarvest>1900-01-01T00:00:00.000+00:00</lastCompleteHarvest>\n",
    "        </synchronization>\n",
    "        <subject>CN=urn:node:PANGAEA,DC=dataone,DC=org</subject>\n",
    "        <contactSubject>CN=M I A213106,O=Google,C=US,DC=cilogon,DC=org</contactSubject>\n",
    "        <property key=\"CN_node_name\">PANGAEA Data Publisher for Earth and Environmental Science</property>\n",
    "        <property key=\"CN_operational_status\">operational</property>\n",
    "        <property key=\"CN_logo_url\">https://raw.githubusercontent.com/DataONEorg/member-node-info/master/production/graphics/web/PANGAEA.png</property>\n",
    "        <property key=\"CN_date_upcoming\">2017-11-14T22:00:00</property>\n",
    "        <property key=\"CN_info_url\">https://www.pangaea.de/</property>\n",
    "        <property key=\"CN_location_lonlat\">8.8506,53.1101</property>\n",
    "        <property key=\"CN_date_operational\">2018-03-20T17:46:00.000Z</property>\n",
    "    </node>\n",
    "```\n",
    "\n",
    "This information can be processed using an XML parser such as `xml_starlet` to retrieve specific values of interest.\n",
    "\n",
    "Given the URL for the `/node` endpoint:"
   ]
  },
  {
   "cell_type": "code",
   "execution_count": 1,
   "metadata": {},
   "outputs": [],
   "source": [
    "URL=\"https://cn.dataone.org/cn/v2/node\""
   ]
  },
  {
   "cell_type": "markdown",
   "metadata": {},
   "source": [
    "Use `curl` to retrieve the node document and pipe the response through `xml` in selection mode to retrieve specific properties as identified by the respective XPath rules."
   ]
  },
  {
   "cell_type": "code",
   "execution_count": 2,
   "metadata": {},
   "outputs": [
    {
     "name": "stdout",
     "output_type": "stream",
     "text": [
      "NodeID, Status, Operational_status, Date_operational, Date_upcoming\n",
      "urn:node:KNB, up, operational, 2012-07-23T00:00:0.000Z, \n",
      "urn:node:ESA, up, operational, 2012-07-23T00:00:0.000Z, \n",
      "urn:node:SANPARKS, up, operational, 2012-07-23T00:00:0.000Z, \n",
      "urn:node:ORNLDAAC, down, operational, 2012-07-23T00:00:0.000Z, \n",
      "urn:node:LTER, up, operational, 2012-07-23T00:00:0.000Z, \n",
      "urn:node:CDL, up, operational, 2012-07-23T00:00:0.000Z, \n",
      "urn:node:PISCO, up, operational, 2012-07-23T00:00:0.000Z, \n",
      "urn:node:ONEShare, up, operational, 2012-10-02T00:00:0.000Z, \n",
      "urn:node:mnORC1, up, replicator, 2012-07-23T00:00:0.000Z, \n",
      "urn:node:mnUNM1, up, replicator, 2012-07-23T00:00:0.000Z, \n",
      "urn:node:mnUCSB1, up, replicator, 2012-07-23T00:00:0.000Z, \n",
      "urn:node:TFRI, up, operational, 2013-06-18T00:00:0.000Z, \n",
      "urn:node:USANPN, down, contributing, 2014-01-28T00:00:0.000Z, \n",
      "urn:node:SEAD, up, operational, 2013-12-18T00:00:0.000Z, \n",
      "urn:node:GOA, up, operational, 2013-11-15T00:00:0.000Z, \n",
      "urn:node:KUBI, down, operational, 2014-02-20T00:00:0.000Z, \n",
      "urn:node:LTER_EUROPE, up, operational, 2014-06-18T00:00:0.000Z, \n",
      "urn:node:DRYAD, up, operational, 2014-02-22T00:00:0.000Z, \n",
      "urn:node:CLOEBIRD, up, operational, 2013-07-01T00:00:0.000Z, \n",
      "urn:node:EDACGSTORE, up, operational, 2014-06-23T00:00:0.000Z, \n",
      "urn:node:IOE, up, operational, 2014-08-13T00:00:0.000Z, \n",
      "urn:node:US_MPC, up, operational, 2014-12-22T00:00:0.000Z, 2014-12-11T00:00:0.000Z\n",
      "urn:node:EDORA, down, operational, 2014-11-24T00:00:0.000Z, 2014-05-29T00:00:0.000Z\n",
      "urn:node:RGD, down, operational, 2014-11-24T00:00:0.000Z, 2014-05-29T00:00:0.000Z\n",
      "urn:node:GLEON, down, contributing, 2015-03-10T00:00:0.000Z, 2014-12-10T00:00:0.000Z\n",
      "urn:node:IARC, up, operational, 2015-05-08T00:00:0.000Z, 2015-03-06T00:00:0.000Z\n",
      "urn:node:NMEPSCOR, up, operational, 2015-05-27T00:00:0.000Z, 2015-05-27T00:00:0.000Z\n",
      "urn:node:TERN, up, operational, 2015-06-23T00:00:0.000Z, 2015-05-26T00:00:0.000Z\n",
      "urn:node:NKN, up, operational, 2016-06-28T00:00:0.000Z, 2015-03-13T00:00:0.000Z\n",
      "urn:node:USGS_SDC, up, operational, 2015-11-12T00:00:0.000Z, 2015-11-06T00:00:0.000Z\n",
      "urn:node:NRDC, up, operational, 2015-12-21T00:00:0.000Z, 2016-01-05T00:00:0.000Z\n",
      "urn:node:NCEI, up, operational, 2016-03-31T00:00:0.000Z, 2016-04-06T00:00:0.000Z\n",
      "urn:node:PPBIO, up, operational, 2016-05-17T00:00:0.000Z, 2014-08-01T00:00:0.000Z\n",
      "urn:node:NEON, up, operational, 2016-07-13T00:00:0.000Z, 2015-07-06T00:00:0.000Z\n",
      "urn:node:TDAR, up, operational, 2017-01-25T00:00:0.000Z, 2016-03-28T00:00:0.000Z\n",
      "urn:node:ARCTIC, up, operational, 2016-12-01T00:00:0.000Z, 2016-04-05T00:00:0.000Z\n",
      "urn:node:BCODMO, up, operational, 2016-11-29T00:00:0.000Z, 2016-03-28T00:00:0.000Z\n",
      "urn:node:GRIIDC, up, operational, 2017-01-20T00:00:0.000Z, 2016-08-29T00:00:0.000Z\n",
      "urn:node:R2R, up, operational, 2017-01-18T00:00:0.000Z, 2016-04-13T00:00:0.000Z\n",
      "urn:node:EDI, up, operational, 2017-04-07T20:23:00.000Z, 2017-04-07T20:23:00.000Z\n",
      "urn:node:UIC, up, operational, 2017-08-30T00:00:0.000Z, 2017-05-04T13:50:00.000Z\n",
      "urn:node:RW, up, operational, 2017-07-25T00:00:0.000Z, 2017-07-01T00:00:0.000Z\n",
      "urn:node:FEMC, up, operational, 2017-09-29T19:20:00, 2017-09-29T00:00:00\n",
      "urn:node:OTS_NDC, up, operational, 2018-02-26T20:56:00, 2018-02-02T14:30:00\n",
      "urn:node:PANGAEA, up, operational, 2018-03-20T17:46:00.000Z, 2017-11-14T22:00:00\n",
      "urn:node:ESS_DIVE, up, operational, 2018-09-17T22:43:00, 2018-08-07T00:00:00\n",
      "urn:node:CAS_CERN, up, operational, 2018-10-19T12:00:000.000Z, \n"
     ]
    }
   ],
   "source": [
    "\n",
    "echo \"NodeID, Status, Operational_status, Date_operational, Date_upcoming\"\n",
    "curl -s ${URL} | xml sel -t \\\n",
    "  -m \"//node[@type='mn']\" \\\n",
    "  -v \"identifier\" \\\n",
    "  -o \", \"  \\\n",
    "  -v \"@state\" \\\n",
    "  -o \", \"  \\\n",
    "  -v \"property[@key='CN_operational_status']\" \\\n",
    "  -o \", \"  \\\n",
    "  -v \"property[@key='CN_date_operational']\" \\\n",
    "  -o \", \"  \\\n",
    "  -v \"property[@key='CN_date_upcoming']\" \\\n",
    "  -n\n"
   ]
  },
  {
   "cell_type": "markdown",
   "metadata": {},
   "source": [
    "The resulting output is a comma delimited list with:\n",
    "\n",
    "`NodeId` = the node identifier\n",
    "\n",
    "`Status` = The current state of the node, \"down\" signifies offline for maintenance activity\n",
    "\n",
    "`Operational_status` = \"operational\" for nodes currently participating in the network, \"contributing\" for nodes that have been deprecated, \"upcoming\" for nodes that are close to becoming operational, and \"replicator\" for nodes with a role for content replication without direct submission.\n",
    "\n",
    "`Date_operational` = Date that the node was flagged as operational\n",
    "\n",
    "`Date_upcoming` = Date that the node was listed as upcoming (not available for all).\n"
   ]
  },
  {
   "cell_type": "code",
   "execution_count": null,
   "metadata": {},
   "outputs": [],
   "source": []
  }
 ],
 "metadata": {
  "kernelspec": {
   "display_name": "Bash",
   "language": "bash",
   "name": "bash"
  },
  "language_info": {
   "codemirror_mode": "shell",
   "file_extension": ".sh",
   "mimetype": "text/x-sh",
   "name": "bash"
  }
 },
 "nbformat": 4,
 "nbformat_minor": 2
}
