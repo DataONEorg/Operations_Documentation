{
 "cells": [
  {
   "cell_type": "code",
   "execution_count": 4,
   "metadata": {},
   "outputs": [
    {
     "name": "stdout",
     "output_type": "stream",
     "text": [
      "{\n",
      "  \"responseHeader\":{\n",
      "    \"status\":0,\n",
      "    \"QTime\":11498,\n",
      "    \"params\":{\n",
      "      \"facet.range\":\"dateLogged\",\n",
      "      \"q\":\"event:read AND formatType:(METADATA OR DATA) AND inPartialRobotList:false AND isRepeatVisit:false\",\n",
      "      \"facet.limit\":\"-1\",\n",
      "      \"facet.field\":\"formatType\",\n",
      "      \"facet.range.gap\":\"+1MONTH\",\n",
      "      \"indent\":\"true\",\n",
      "      \"facet.mincount\":\"1\",\n",
      "      \"rows\":\"0\",\n",
      "      \"facet\":\"true\",\n",
      "      \"wt\":\"json\",\n",
      "      \"facet.range.start\":\"2012-07-01T00:00:00.0Z\",\n",
      "      \"facet.range.end\":\"2018-12-05T05:00:00.0Z\"}},\n",
      "  \"response\":{\"numFound\":30511562,\"start\":0,\"docs\":[]\n",
      "  },\n",
      "  \"facet_counts\":{\n",
      "    \"facet_queries\":{},\n",
      "    \"facet_fields\":{\n",
      "      \"formatType\":[\n",
      "        \"DATA\",12898800,\n",
      "        \"METADATA\",17612762]},\n",
      "    \"facet_dates\":{},\n",
      "    \"facet_ranges\":{\n",
      "      \"dateLogged\":{\n",
      "        \"counts\":[\n",
      "          \"2012-07-01T00:00:00Z\",62601,\n",
      "          \"2012-08-01T00:00:00Z\",86973,\n",
      "          \"2012-09-01T00:00:00Z\",102794,\n",
      "          \"2012-10-01T00:00:00Z\",91057,\n",
      "          \"2012-11-01T00:00:00Z\",50142,\n",
      "          \"2012-12-01T00:00:00Z\",106543,\n",
      "          \"2013-01-01T00:00:00Z\",265996,\n",
      "          \"2013-02-01T00:00:00Z\",53161,\n",
      "          \"2013-03-01T00:00:00Z\",76107,\n",
      "          \"2013-04-01T00:00:00Z\",89058,\n",
      "          \"2013-05-01T00:00:00Z\",174062,\n",
      "          \"2013-06-01T00:00:00Z\",241462,\n",
      "          \"2013-07-01T00:00:00Z\",87732,\n",
      "          \"2013-08-01T00:00:00Z\",99341,\n",
      "          \"2013-09-01T00:00:00Z\",48840,\n",
      "          \"2013-10-01T00:00:00Z\",46688,\n",
      "          \"2013-11-01T00:00:00Z\",101610,\n",
      "          \"2013-12-01T00:00:00Z\",69405,\n",
      "          \"2014-01-01T00:00:00Z\",40460,\n",
      "          \"2014-02-01T00:00:00Z\",23105,\n",
      "          \"2014-03-01T00:00:00Z\",33442,\n",
      "          \"2014-04-01T00:00:00Z\",24724,\n",
      "          \"2014-05-01T00:00:00Z\",194822,\n",
      "          \"2014-06-01T00:00:00Z\",53723,\n",
      "          \"2014-07-01T00:00:00Z\",22428,\n",
      "          \"2014-08-01T00:00:00Z\",121619,\n",
      "          \"2014-09-01T00:00:00Z\",284306,\n",
      "          \"2014-10-01T00:00:00Z\",163986,\n",
      "          \"2014-11-01T00:00:00Z\",413225,\n",
      "          \"2014-12-01T00:00:00Z\",230587,\n",
      "          \"2015-01-01T00:00:00Z\",203631,\n",
      "          \"2015-02-01T00:00:00Z\",6162075,\n",
      "          \"2015-03-01T00:00:00Z\",342478,\n",
      "          \"2015-04-01T00:00:00Z\",677874,\n",
      "          \"2015-05-01T00:00:00Z\",9682,\n",
      "          \"2015-06-01T00:00:00Z\",20916,\n",
      "          \"2015-07-01T00:00:00Z\",302382,\n",
      "          \"2015-08-01T00:00:00Z\",729099,\n",
      "          \"2015-09-01T00:00:00Z\",364072,\n",
      "          \"2015-10-01T00:00:00Z\",329160,\n",
      "          \"2015-11-01T00:00:00Z\",346394,\n",
      "          \"2015-12-01T00:00:00Z\",297156,\n",
      "          \"2016-01-01T00:00:00Z\",792945,\n",
      "          \"2016-02-01T00:00:00Z\",388549,\n",
      "          \"2016-03-01T00:00:00Z\",326923,\n",
      "          \"2016-04-01T00:00:00Z\",437580,\n",
      "          \"2016-05-01T00:00:00Z\",369393,\n",
      "          \"2016-06-01T00:00:00Z\",99175,\n",
      "          \"2016-07-01T00:00:00Z\",95896,\n",
      "          \"2016-08-01T00:00:00Z\",98899,\n",
      "          \"2016-09-01T00:00:00Z\",778042,\n",
      "          \"2016-10-01T00:00:00Z\",199846,\n",
      "          \"2016-11-01T00:00:00Z\",267619,\n",
      "          \"2016-12-01T00:00:00Z\",281290,\n",
      "          \"2017-01-01T00:00:00Z\",466942,\n",
      "          \"2017-02-01T00:00:00Z\",1376599,\n",
      "          \"2017-03-01T00:00:00Z\",1415756,\n",
      "          \"2017-04-01T00:00:00Z\",231437,\n",
      "          \"2017-05-01T00:00:00Z\",773015,\n",
      "          \"2017-06-01T00:00:00Z\",1159449,\n",
      "          \"2017-07-01T00:00:00Z\",124926,\n",
      "          \"2017-08-01T00:00:00Z\",130448,\n",
      "          \"2017-09-01T00:00:00Z\",136696,\n",
      "          \"2017-10-01T00:00:00Z\",196910,\n",
      "          \"2017-11-01T00:00:00Z\",68599,\n",
      "          \"2017-12-01T00:00:00Z\",140235,\n",
      "          \"2018-01-01T00:00:00Z\",1445876,\n",
      "          \"2018-02-01T00:00:00Z\",122830,\n",
      "          \"2018-03-01T00:00:00Z\",33426,\n",
      "          \"2018-04-01T00:00:00Z\",119324,\n",
      "          \"2018-05-01T00:00:00Z\",341162,\n",
      "          \"2018-06-01T00:00:00Z\",177363,\n",
      "          \"2018-07-01T00:00:00Z\",173100,\n",
      "          \"2018-08-01T00:00:00Z\",205811,\n",
      "          \"2018-09-01T00:00:00Z\",562175,\n",
      "          \"2018-10-01T00:00:00Z\",466390,\n",
      "          \"2018-11-01T00:00:00Z\",169958,\n",
      "          \"2018-12-01T00:00:00Z\",84694],\n",
      "        \"gap\":\"+1MONTH\",\n",
      "        \"start\":\"2012-07-01T00:00:00Z\",\n",
      "        \"end\":\"2019-01-01T00:00:00Z\"}},\n",
      "    \"facet_intervals\":{},\n",
      "    \"facet_heatmaps\":{}}}\n",
      "\n"
     ]
    }
   ],
   "source": [
    "import requests\n",
    "import json\n",
    "\n",
    "url=\"https://cn.dataone.org/cn/v2/query/logsolr/\"\n",
    "\n",
    "params = {\n",
    "    \"q\":(\"event:read\"\n",
    "         \" AND formatType:(METADATA OR DATA)\"\n",
    "         \" AND inPartialRobotList:false\"\n",
    "         \" AND isRepeatVisit:false\"),\n",
    "    \"facet\":\"true\",\n",
    "    \"facet.limit\":-1,\n",
    "    \"facet.mincount\":1,\n",
    "    \"facet.field\":\"formatType\",\n",
    "    \"facet.range\":\"dateLogged\",\n",
    "    \"facet.range.start\":\"2012-07-01T00:00:00.0Z\",\n",
    "    \"facet.range.end\":\"2018-12-05T05:00:00.0Z\",\n",
    "    \"facet.range.gap\":\"+1MONTH\",\n",
    "    \"wt\":\"json\",\n",
    "    \"rows\":0,\n",
    "    \"indent\":\"true\",\n",
    "}\n",
    "\n",
    "response = requests.get(url, params=params)\n",
    "response_text = response.text\n",
    "print(response_text)\n"
   ]
  },
  {
   "cell_type": "code",
   "execution_count": 22,
   "metadata": {},
   "outputs": [
    {
     "name": "stdout",
     "output_type": "stream",
     "text": [
      "Total metadata:  17,612,762\n",
      "    Total data:  12,898,800\n",
      "         Total:  30,511,562\n"
     ]
    }
   ],
   "source": [
    "from datetime import datetime\n",
    "response_data = json.loads(response_text)\n",
    "summary = {\"metadata\":0, \"data\":0}\n",
    "timeseries = []\n",
    "for i in range(0, 4, 2):\n",
    "    k = response_data[\"facet_counts\"][\"facet_fields\"][\"formatType\"][i].lower()\n",
    "    v = response_data[\"facet_counts\"][\"facet_fields\"][\"formatType\"][i+1]\n",
    "    summary[k] = v\n",
    "\n",
    "print(f\"Total metadata: {summary['metadata']:11,}\")\n",
    "print(f\"    Total data: {summary['data']:11,}\")\n",
    "print(f\"         Total: {summary['data']+summary['metadata']:11,}\")      "
   ]
  },
  {
   "cell_type": "code",
   "execution_count": 23,
   "metadata": {},
   "outputs": [],
   "source": [
    "entries = response_data[\"facet_counts\"][\"facet_ranges\"][\"dateLogged\"][\"counts\"]\n",
    "for i in range(0, len(entries), 2):\n",
    "    entry = [datetime.strptime(entries[i], \"%Y-%m-%dT%H:%M:%SZ\"), entries[i+1]]\n",
    "    timeseries.append(entry)\n"
   ]
  },
  {
   "cell_type": "code",
   "execution_count": 24,
   "metadata": {},
   "outputs": [
    {
     "name": "stdout",
     "output_type": "stream",
     "text": [
      "Total: 27,504,196\n"
     ]
    },
    {
     "data": {
      "image/png": "[encoded data removed]",
      "text/plain": [
       "<Figure size 720x288 with 1 Axes>"
      ]
     },
     "metadata": {
      "needs_background": "light"
     },
     "output_type": "display_data"
    }
   ],
   "source": [
    "import pandas as pd\n",
    "import matplotlib.pyplot as plt\n",
    "data_frame = pd.DataFrame(timeseries, columns=(\"Date\",\"Downloads\",))\n",
    "data_frame.set_index('Date', inplace=True)\n",
    "\n",
    "plot = data_frame.plot(figsize=(10,4))\n",
    "plot.grid(True)\n",
    "print(f\"Total: {data_frame['Downloads'].sum():,}\")"
   ]
  },
  {
   "cell_type": "code",
   "execution_count": 25,
   "metadata": {},
   "outputs": [
    {
     "name": "stdout",
     "output_type": "stream",
     "text": [
      "{\n",
      "  \"responseHeader\":{\n",
      "    \"status\":0,\n",
      "    \"QTime\":6763,\n",
      "    \"params\":{\n",
      "      \"q\":\"event:read AND dateLogged:[\\\"2012-07-01T00:00:00.000Z\\\" TO NOW] AND isPublic:0\",\n",
      "      \"facet.field\":\"formatType\",\n",
      "      \"indent\":\"true\",\n",
      "      \"counterCompliant\":\"true\",\n",
      "      \"facet\":\"true\",\n",
      "      \"wt\":\"json\"}},\n",
      "  \"response\":{\"numFound\":48642791,\"start\":0,\"docs\":[]\n",
      "  },\n",
      "  \"facet_counts\":{\n",
      "    \"facet_queries\":{},\n",
      "    \"facet_fields\":{\n",
      "      \"formatType\":[\n",
      "        \"METADATA\",24317569,\n",
      "        \"DATA\",19162309,\n",
      "        \"RESOURCE\",1653288]},\n",
      "    \"facet_dates\":{},\n",
      "    \"facet_ranges\":{},\n",
      "    \"facet_intervals\":{},\n",
      "    \"facet_heatmaps\":{}}}\n",
      "\n"
     ]
    }
   ],
   "source": [
    "\n",
    "params = {\n",
    "    \"q\":\"event:read AND dateLogged:[\\\"2012-07-01T00:00:00.000Z\\\" TO NOW] AND isPublic:0\",\n",
    "    \"counterCompliant\":\"true\",\n",
    "    \"facet\":\"true\",\n",
    "    \"facet.field\":\"formatType\",\n",
    "    \"wt\":\"json\",\n",
    "    \"indent\":\"true\",\n",
    "}\n",
    "response = requests.get(url, params=params)\n",
    "response_text = response.text\n",
    "print(response_text)\n",
    "data = json.loads(response_text)\n",
    "result = {\"metadata\":0, \"data\":0, \"resource\": 0}\n",
    "for i in range(0,6,2):\n",
    "    result[data[\"facet_counts\"][\"facet_fields\"][\"formatType\"][i].lower()] = data[\"facet_counts\"][\"facet_fields\"][\"formatType\"][i+1]\n"
   ]
  },
  {
   "cell_type": "code",
   "execution_count": 22,
   "metadata": {},
   "outputs": [
    {
     "name": "stdout",
     "output_type": "stream",
     "text": [
      "metadata  : 24,317,569\n",
      "data      : 19,162,309\n",
      "resource  :  1,653,288\n"
     ]
    }
   ],
   "source": [
    "for k in result:\n",
    "    print(f\"{k:10}:{result[k]:11,}\")"
   ]
  },
  {
   "cell_type": "code",
   "execution_count": null,
   "metadata": {},
   "outputs": [],
   "source": []
  }
 ],
 "metadata": {
  "kernelspec": {
   "display_name": "Python 3",
   "language": "python",
   "name": "python3"
  },
  "language_info": {
   "codemirror_mode": {
    "name": "ipython",
    "version": 3
   },
   "file_extension": ".py",
   "mimetype": "text/x-python",
   "name": "python",
   "nbconvert_exporter": "python",
   "pygments_lexer": "ipython3",
   "version": "3.7.1"
  }
 },
 "nbformat": 4,
 "nbformat_minor": 2
}
